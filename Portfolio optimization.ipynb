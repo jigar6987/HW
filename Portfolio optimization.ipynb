{
 "cells": [
  {
   "cell_type": "code",
   "execution_count": 2,
   "metadata": {},
   "outputs": [],
   "source": [
    "import matplotlib as mpl\n",
    "import numpy as np\n",
    "import pandas as pd\n",
    "import statsmodels.api as sm\n",
    "import statsmodels.formula.api as smf\n",
    "import scipy as sp\n",
    "import datetime\n",
    "\n",
    "import matplotlib.pylab as plt\n",
    "import os"
   ]
  },
  {
   "cell_type": "code",
   "execution_count": 3,
   "metadata": {},
   "outputs": [],
   "source": [
    "data=pd.read_excel(r\"G:\\Documents\\Documents\\Finance work\\MC test.xlsx\",index_col=0)\n",
    "data.index = pd.to_datetime(data.index)"
   ]
  },
  {
   "cell_type": "code",
   "execution_count": 5,
   "metadata": {},
   "outputs": [],
   "source": [
    "wt=np.array([0.25,0.3,0.3,0.15])"
   ]
  },
  {
   "cell_type": "code",
   "execution_count": 6,
   "metadata": {},
   "outputs": [],
   "source": [
    "ret=data.pct_change()"
   ]
  },
  {
   "cell_type": "code",
   "execution_count": 7,
   "metadata": {},
   "outputs": [],
   "source": [
    "cov_matrix=ret.cov()"
   ]
  },
  {
   "cell_type": "code",
   "execution_count": 8,
   "metadata": {},
   "outputs": [],
   "source": [
    "n=[-0.002,0.003,-0.0002,0.004]"
   ]
  },
  {
   "cell_type": "code",
   "execution_count": 9,
   "metadata": {},
   "outputs": [
    {
     "data": {
      "text/html": [
       "<div>\n",
       "<style scoped>\n",
       "    .dataframe tbody tr th:only-of-type {\n",
       "        vertical-align: middle;\n",
       "    }\n",
       "\n",
       "    .dataframe tbody tr th {\n",
       "        vertical-align: top;\n",
       "    }\n",
       "\n",
       "    .dataframe thead th {\n",
       "        text-align: right;\n",
       "    }\n",
       "</style>\n",
       "<table border=\"1\" class=\"dataframe\">\n",
       "  <thead>\n",
       "    <tr style=\"text-align: right;\">\n",
       "      <th></th>\n",
       "      <th>Nifty</th>\n",
       "      <th>Dow</th>\n",
       "      <th>Dax</th>\n",
       "      <th>FTSE</th>\n",
       "    </tr>\n",
       "  </thead>\n",
       "  <tbody>\n",
       "    <tr>\n",
       "      <th>Nifty</th>\n",
       "      <td>0.005738</td>\n",
       "      <td>-0.000596</td>\n",
       "      <td>-0.000974</td>\n",
       "      <td>-0.000933</td>\n",
       "    </tr>\n",
       "    <tr>\n",
       "      <th>Dow</th>\n",
       "      <td>-0.000596</td>\n",
       "      <td>0.017971</td>\n",
       "      <td>-0.000511</td>\n",
       "      <td>-0.001371</td>\n",
       "    </tr>\n",
       "    <tr>\n",
       "      <th>Dax</th>\n",
       "      <td>-0.000974</td>\n",
       "      <td>-0.000511</td>\n",
       "      <td>0.016428</td>\n",
       "      <td>0.001402</td>\n",
       "    </tr>\n",
       "    <tr>\n",
       "      <th>FTSE</th>\n",
       "      <td>-0.000933</td>\n",
       "      <td>-0.001371</td>\n",
       "      <td>0.001402</td>\n",
       "      <td>0.030052</td>\n",
       "    </tr>\n",
       "  </tbody>\n",
       "</table>\n",
       "</div>"
      ],
      "text/plain": [
       "          Nifty       Dow       Dax      FTSE\n",
       "Nifty  0.005738 -0.000596 -0.000974 -0.000933\n",
       "Dow   -0.000596  0.017971 -0.000511 -0.001371\n",
       "Dax   -0.000974 -0.000511  0.016428  0.001402\n",
       "FTSE  -0.000933 -0.001371  0.001402  0.030052"
      ]
     },
     "execution_count": 9,
     "metadata": {},
     "output_type": "execute_result"
    }
   ],
   "source": [
    "cov_matrix"
   ]
  },
  {
   "cell_type": "code",
   "execution_count": 10,
   "metadata": {},
   "outputs": [],
   "source": [
    "avg_ret=ret.mean()"
   ]
  },
  {
   "cell_type": "code",
   "execution_count": 11,
   "metadata": {},
   "outputs": [
    {
     "data": {
      "text/plain": [
       "Nifty    0.002774\n",
       "Dow      0.008242\n",
       "Dax      0.007737\n",
       "FTSE     0.014274\n",
       "dtype: float64"
      ]
     },
     "execution_count": 11,
     "metadata": {},
     "output_type": "execute_result"
    }
   ],
   "source": [
    "avg_ret"
   ]
  },
  {
   "cell_type": "code",
   "execution_count": 12,
   "metadata": {},
   "outputs": [],
   "source": [
    "port_mean=avg_ret.dot(wt)\n"
   ]
  },
  {
   "cell_type": "code",
   "execution_count": 13,
   "metadata": {},
   "outputs": [],
   "source": [
    "port_std=np.sqrt(np.dot(wt.T,np.dot(cov_matrix,wt)))"
   ]
  },
  {
   "cell_type": "code",
   "execution_count": 14,
   "metadata": {},
   "outputs": [],
   "source": [
    "#Set the number of iterations to 10000 and define an array to hold the simulation results; initially set to all zeros\n",
    "stock=data.columns\n",
    "num_iterations = 10000\n",
    "#matrix([row,col] for 7 rows and 10000 cols (simulation results))\n",
    "simulation_res = np.zeros((4+len(stock)-1,num_iterations))"
   ]
  },
  {
   "cell_type": "code",
   "execution_count": 15,
   "metadata": {},
   "outputs": [],
   "source": [
    "for i in range(num_iterations):\n",
    "#Select random weights and normalize to set the sum to 1\n",
    "        weights = np.array(np.random.random(4))\n",
    "        weights /= np.sum(weights)\n",
    "        #Calculate the return and standard deviation for every step\n",
    "        port_return=np.dot(avg_ret,weights)\n",
    "        port_vol=np.sqrt(np.dot(weights.T,np.dot(cov_matrix, weights)))\n",
    "        #Store all the results in a defined array\n",
    "        simulation_res[0,i] = port_return\n",
    "        simulation_res[1,i] = port_vol\n",
    "        #Sharpe ratio \n",
    "        simulation_res[2,i] = simulation_res[0,i] / simulation_res[1,i]\n",
    "        #save the weights for each stock in below rows\n",
    "        for j in range(len(weights)):\n",
    "                simulation_res[j+3,i] = weights[j]"
   ]
  },
  {
   "cell_type": "code",
   "execution_count": 17,
   "metadata": {},
   "outputs": [
    {
     "name": "stdout",
     "output_type": "stream",
     "text": [
      "        ret     stdev    sharpe     Nifty       Dow       Dax      FTSE\n",
      "0  0.005185  0.059583  0.087017  0.598097  0.314845  0.047727  0.039331\n",
      "1  0.007906  0.066100  0.119612  0.291573  0.102824  0.366237  0.239366\n",
      "2  0.008807  0.071375  0.123394  0.131030  0.390766  0.245148  0.233056\n",
      "3  0.008123  0.066645  0.121888  0.374517  0.215178  0.083481  0.326824\n",
      "4  0.007411  0.060288  0.122929  0.440368  0.197199  0.093162  0.269271\n",
      "           ret     stdev    sharpe     Nifty       Dow       Dax      FTSE\n",
      "9995  0.007975  0.080793  0.098708  0.197219  0.051422  0.569150  0.182208\n",
      "9996  0.008517  0.068020  0.125210  0.195440  0.204906  0.347767  0.251887\n",
      "9997  0.007897  0.066641  0.118506  0.258759  0.128092  0.402018  0.211132\n",
      "9998  0.008196  0.064427  0.127212  0.268174  0.333818  0.149964  0.248045\n",
      "9999  0.007914  0.060433  0.130953  0.292886  0.267060  0.211236  0.228818\n"
     ]
    }
   ],
   "source": [
    "sim_frame = pd.DataFrame(simulation_res.T,columns=['ret','stdev','sharpe',stock[0],stock[1],stock[2],stock[3]])\n",
    "print (sim_frame.head (5))\n",
    "print (sim_frame.tail (5))"
   ]
  },
  {
   "cell_type": "code",
   "execution_count": 18,
   "metadata": {},
   "outputs": [
    {
     "name": "stdout",
     "output_type": "stream",
     "text": [
      "The portfolio for max Sharpe Ratio:\n",
      " ret       0.007809\n",
      "stdev     0.059501\n",
      "sharpe    0.131238\n",
      "Nifty     0.308745\n",
      "Dow       0.242776\n",
      "Dax       0.221807\n",
      "FTSE      0.226672\n",
      "Name: 9370, dtype: float64\n",
      "The portfolio for min risk:\n",
      " ret       0.006075\n",
      "stdev     0.051562\n",
      "sharpe    0.117820\n",
      "Nifty     0.506387\n",
      "Dow       0.177189\n",
      "Dax       0.199886\n",
      "FTSE      0.116538\n",
      "Name: 9386, dtype: float64\n"
     ]
    }
   ],
   "source": [
    "#Spot the position of the portfolio with highest Sharpe Ratio\n",
    "max_sharpe = sim_frame.iloc[sim_frame['sharpe'].idxmax()]\n",
    "#Spot the position of the portfolio with minimum Standard Deviation\n",
    "min_std = sim_frame.iloc[sim_frame['stdev'].idxmin()]\n",
    "print (\"The portfolio for max Sharpe Ratio:\\n\", max_sharpe)\n",
    "print (\"The portfolio for min risk:\\n\", min_std)"
   ]
  },
  {
   "cell_type": "code",
   "execution_count": 19,
   "metadata": {},
   "outputs": [
    {
     "data": {
      "image/png": "[encoded data removed]",
      "text/plain": [
       "<Figure size 432x288 with 1 Axes>"
      ]
     },
     "metadata": {
      "needs_background": "light"
     },
     "output_type": "display_data"
    }
   ],
   "source": [
    "#Create a scatter plot coloured by various Sharpe Ratios with standard deviation on the x-axis and returns on the y-axis\n",
    "plt.scatter(sim_frame.stdev,sim_frame.ret,c=sim_frame.sharpe,cmap='RdYlBu')\n",
    "plt.xlabel('Standard Deviation')\n",
    "plt.ylabel('Returns')\n",
    "#plt.ylim(0,.003)\n",
    "#plt.xlim(0.0075,0.012)\n",
    "#Plot a red star to highlight position of the portfolio with highest Sharpe Ratio\n",
    "plt.scatter(max_sharpe[1],max_sharpe[0],marker=(5,1,0),color='r',s=600)\n",
    "#Plot a blue star to highlight position of the portfolio with minimum Variance\n",
    "plt.scatter(min_std[1],min_std[0],marker=(5,1,0),color='b',s=600)\n",
    "plt.show()"
   ]
  },
  {
   "cell_type": "code",
   "execution_count": null,
   "metadata": {},
   "outputs": [],
   "source": []
  }
 ],
 "metadata": {
  "kernelspec": {
   "display_name": "Python 3",
   "language": "python",
   "name": "python3"
  },
  "language_info": {
   "codemirror_mode": {
    "name": "ipython",
    "version": 3
   },
   "file_extension": ".py",
   "mimetype": "text/x-python",
   "name": "python",
   "nbconvert_exporter": "python",
   "pygments_lexer": "ipython3",
   "version": "3.7.6"
  }
 },
 "nbformat": 4,
 "nbformat_minor": 2
}
