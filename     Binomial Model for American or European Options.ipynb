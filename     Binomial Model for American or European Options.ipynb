{
 "cells": [
  {
   "cell_type": "code",
   "execution_count": 277,
   "metadata": {},
   "outputs": [],
   "source": [
    "import matplotlib as mpl\n",
    "import numpy as np\n",
    "import pandas as pd\n",
    "import statsmodels.api as sm\n",
    "import statsmodels.formula.api as smf\n",
    "import scipy as sp\n",
    "import datetime\n",
    "import matplotlib.pylab as plt\n",
    "import os\n",
    "import seaborn as sbn\n",
    "from scipy.stats import norm\n",
    "from scipy.stats import lognorm\n",
    "import statsmodels.api as sm\n",
    "import statsmodels.formula.api as smf\n",
    "from datetime import datetime\n",
    "from dateutil import relativedelta\n",
    "from scipy.optimize import fsolve"
   ]
  },
  {
   "cell_type": "code",
   "execution_count": 300,
   "metadata": {},
   "outputs": [],
   "source": [
    "def Binomial_Model(vol,steps,r,q,S,K,T,option_style,option_type):\n",
    "    \n",
    "    # q = dividend yield or Foreign currency risk free rate\n",
    "    # r = risk free rate (domestic)\n",
    "    # vol = volatility of underlying asset\n",
    "    # steps = Unlimited No of tree steps\n",
    "    # S = Initial underlying asset price\n",
    "    # K = Strike\n",
    "    # T = life of option in years\n",
    "    # option_style = if European then 1 and if American then 0\n",
    "    # option_type = If call then 1 and if put then 0\n",
    "    \n",
    "    delta_t=T/steps   #time steps\n",
    "    u=np.exp(vol*delta_t**0.5)   #up step size\n",
    "    d=np.exp(-vol*delta_t**0.5) # down step size\n",
    "    a=np.exp((r-q)*delta_t)   #growth factor per step\n",
    "    p=(a-d)/(u-d)  # Probability of up move\n",
    "    f=np.zeros((steps+1,steps*5))  # Initialize 2D matrix with zeros\n",
    "    \n",
    "    for i in range(steps,-1,-1):\n",
    "        for j in range(i,-1,-1):\n",
    "            if option_style==1:\n",
    "                if (i==steps and option_type==1):\n",
    "                    f[i,j]=np.maximum((S*(u**j))*(d**(steps-j))-K,0)\n",
    "                elif (i==steps and option_type==0):\n",
    "                    f[i,j]=np.maximum(K-(S*(u**j))*(d**(steps-j)),0)\n",
    "                elif i!=steps:\n",
    "                    f[i,j]=np.exp(-r*delta_t)*(p*f[i+1,j+1]+(1-p)*f[i+1,j])\n",
    "            elif option_style==0:\n",
    "                if (i==steps and option_type==1):\n",
    "                    f[i,j]=np.maximum((S*(u**j))*(d**(steps-j))-K,0)\n",
    "                elif (i==steps and option_type==0):\n",
    "                    f[i,j]=np.maximum(K-(S*(u**j))*(d**(steps-j)),0)\n",
    "                elif (i!=steps and option_type==1):\n",
    "                    f[i,j]=np.maximum((S*(u**j))*(d**(i-j))-K,np.exp(-r*delta_t)*(p*f[i+1,j+1]+(1-p)*f[i+1,j]))\n",
    "                elif (i!=steps and option_type==0):\n",
    "                    f[i,j]=np.maximum(K-(S*(u**j))*(d**(i-j)),np.exp(-r*delta_t)*(p*f[i+1,j+1]+(1-p)*f[i+1,j]))\n",
    "    return f[0,0]"
   ]
  },
  {
   "cell_type": "code",
   "execution_count": 305,
   "metadata": {},
   "outputs": [
    {
     "data": {
      "text/plain": [
       "6.2111980655836465"
      ]
     },
     "execution_count": 305,
     "metadata": {},
     "output_type": "execute_result"
    }
   ],
   "source": [
    "Binomial_Model(0.4,50,0.1,0.02,50.0,50.0,1,0,0)"
   ]
  },
  {
   "cell_type": "code",
   "execution_count": null,
   "metadata": {},
   "outputs": [],
   "source": []
  }
 ],
 "metadata": {
  "kernelspec": {
   "display_name": "Python 3",
   "language": "python",
   "name": "python3"
  },
  "language_info": {
   "codemirror_mode": {
    "name": "ipython",
    "version": 3
   },
   "file_extension": ".py",
   "mimetype": "text/x-python",
   "name": "python",
   "nbconvert_exporter": "python",
   "pygments_lexer": "ipython3",
   "version": "3.7.6"
  }
 },
 "nbformat": 4,
 "nbformat_minor": 4
}
