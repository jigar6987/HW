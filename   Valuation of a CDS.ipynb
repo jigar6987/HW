{
 "cells": [
  {
   "cell_type": "code",
   "execution_count": 117,
   "metadata": {},
   "outputs": [],
   "source": [
    "import matplotlib as mpl\n",
    "import numpy as np\n",
    "import pandas as pd\n",
    "import statsmodels.api as sm\n",
    "import statsmodels.formula.api as smf\n",
    "import scipy as sp\n",
    "import datetime\n",
    "import matplotlib.pylab as plt\n",
    "import os\n",
    "import seaborn as sbn\n",
    "from scipy.stats import norm\n",
    "from scipy.stats import lognorm\n",
    "import statsmodels.api as sm\n",
    "import statsmodels.formula.api as smf\n",
    "from datetime import datetime\n",
    "from dateutil import relativedelta\n",
    "from scipy.optimize import fsolve\n"
   ]
  },
  {
   "cell_type": "code",
   "execution_count": 118,
   "metadata": {},
   "outputs": [],
   "source": [
    "'''Sample data for valuation of a 5 year CDS'''\n",
    "hazard_rate=0.02 # flat 2% per annum for whole 5 year life of CDS\n",
    "t=[1,2,3,4,5] # 5 years\n",
    "tenor=np.mean([t[i+1]-t[i] for i in range(0,len(t)-1)]) # 1 year \n",
    "r=0.05 # continous compounded risk free rate \n",
    "Notional=1 #1$\n",
    "Recovery_rate=0.4\n"
   ]
  },
  {
   "cell_type": "code",
   "execution_count": 119,
   "metadata": {},
   "outputs": [
    {
     "name": "stdout",
     "output_type": "stream",
     "text": [
      "Probability of default during year:\n",
      "0.019801326693244747\n",
      "0.019409234154432076\n",
      "0.019024905568074457\n",
      "0.018648187197612964\n",
      "0.018278928350676238\n",
      "Probability of survival to year end:\n",
      "0.9801986733067553\n",
      "0.9607894391523232\n",
      "0.9417645335842487\n",
      "0.9231163463866358\n",
      "0.9048374180359595\n"
     ]
    }
   ],
   "source": [
    "'''Calculation of probability of survival and probability of default'''\n",
    "survival_probability = [np.exp(-hazard_rate*t[i]) for i in range(0,len(t))] #Probability of surviving to year end\n",
    "\n",
    "PD=[]\n",
    "\n",
    "for i in range(0,len(t)):\n",
    "    if i==0:\n",
    "        pd=1.0-survival_probability[i]\n",
    "    else:\n",
    "        pd=survival_probability[i-1]-survival_probability[i]\n",
    "    PD.append(pd)\n",
    "    \n",
    "print ('Probability of default during year:')\n",
    "print(*PD,sep=\"\\n\")\n",
    "print ('Probability of survival to year end:')\n",
    "print(*survival_probability,sep=\"\\n\")"
   ]
  },
  {
   "cell_type": "code",
   "execution_count": 120,
   "metadata": {},
   "outputs": [],
   "source": [
    "PV_exp_payments_factors = sum([np.exp(-r*t[i])*survival_probability[i]*Notional for i  in range(0, len(t))])"
   ]
  },
  {
   "cell_type": "code",
   "execution_count": 121,
   "metadata": {},
   "outputs": [
    {
     "data": {
      "text/plain": [
       "4.07280813244938"
      ]
     },
     "execution_count": 121,
     "metadata": {},
     "output_type": "execute_result"
    }
   ],
   "source": [
    "PV_exp_payments_factors"
   ]
  },
  {
   "cell_type": "code",
   "execution_count": 122,
   "metadata": {},
   "outputs": [],
   "source": [
    "PV_accrual_payment_factors = sum([np.exp(-r*(t[i]-tenor*0.5))*PD[i]*0.5*Notional for i  in range(0, len(t))])"
   ]
  },
  {
   "cell_type": "code",
   "execution_count": 123,
   "metadata": {},
   "outputs": [
    {
     "data": {
      "text/plain": [
       "0.0421795067048166"
      ]
     },
     "execution_count": 123,
     "metadata": {},
     "output_type": "execute_result"
    }
   ],
   "source": [
    "PV_accrual_payment_factors"
   ]
  },
  {
   "cell_type": "code",
   "execution_count": 124,
   "metadata": {},
   "outputs": [],
   "source": [
    "PV_exp_payoff = sum([np.exp(-r*(t[i]-tenor*0.5))*PD[i]*(1-Recovery_rate)*Notional for i  in range(0, len(t))])"
   ]
  },
  {
   "cell_type": "code",
   "execution_count": 125,
   "metadata": {},
   "outputs": [
    {
     "data": {
      "text/plain": [
       "0.050615408045779915"
      ]
     },
     "execution_count": 125,
     "metadata": {},
     "output_type": "execute_result"
    }
   ],
   "source": [
    "PV_exp_payoff"
   ]
  },
  {
   "cell_type": "code",
   "execution_count": 126,
   "metadata": {},
   "outputs": [
    {
     "data": {
      "text/plain": [
       "4.114987639154196"
      ]
     },
     "execution_count": 126,
     "metadata": {},
     "output_type": "execute_result"
    }
   ],
   "source": [
    "Duration = PV_exp_payments_factors+PV_accrual_payment_factors # Duration for the CDS payments\n",
    "Duration"
   ]
  },
  {
   "cell_type": "code",
   "execution_count": 127,
   "metadata": {},
   "outputs": [
    {
     "data": {
      "text/plain": [
       "0.012300257615399185"
      ]
     },
     "execution_count": 127,
     "metadata": {},
     "output_type": "execute_result"
    }
   ],
   "source": [
    "CDS_spread=PV_exp_payoff/Duration\n",
    "CDS_spread"
   ]
  },
  {
   "cell_type": "code",
   "execution_count": null,
   "metadata": {},
   "outputs": [],
   "source": [
    "def CDS(T,)"
   ]
  }
 ],
 "metadata": {
  "kernelspec": {
   "display_name": "Python 3",
   "language": "python",
   "name": "python3"
  },
  "language_info": {
   "codemirror_mode": {
    "name": "ipython",
    "version": 3
   },
   "file_extension": ".py",
   "mimetype": "text/x-python",
   "name": "python",
   "nbconvert_exporter": "python",
   "pygments_lexer": "ipython3",
   "version": "3.7.6"
  }
 },
 "nbformat": 4,
 "nbformat_minor": 4
}
