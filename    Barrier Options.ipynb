{
 "cells": [
  {
   "cell_type": "code",
   "execution_count": 125,
   "metadata": {},
   "outputs": [],
   "source": [
    "import matplotlib as mpl\n",
    "import numpy as np\n",
    "import pandas as pd\n",
    "import statsmodels.api as sm\n",
    "import statsmodels.formula.api as smf\n",
    "import scipy as sp\n",
    "import datetime\n",
    "import matplotlib.pylab as plt\n",
    "import os\n",
    "import seaborn as sbn\n",
    "from scipy.stats import norm\n",
    "from scipy.stats import lognorm\n",
    "import statsmodels.api as sm\n",
    "import statsmodels.formula.api as smf\n",
    "from datetime import datetime\n",
    "from dateutil import relativedelta\n",
    "from scipy.optimize import fsolve"
   ]
  },
  {
   "cell_type": "code",
   "execution_count": 126,
   "metadata": {},
   "outputs": [],
   "source": [
    "class BSM:\n",
    "    def __init__(self,Call,S,K,V,T,R,Q,Long,N,TP):\n",
    "        self.Call=Call\n",
    "        self.S=S  #asset price\n",
    "        self.K=K  #strike \n",
    "        self.V=V  #Volatility\n",
    "        self.T=T  #time to expiry\n",
    "        self.R=R  #risk free rate\n",
    "        self.Q=Q  #divdient yield/cash inflows\n",
    "        self.Long=Long\n",
    "        self.N=N   #Number of lots\n",
    "        self.TP=TP #Traded price\n",
    "        self.d1=(np.log(self.S/self.K)+(self.R-self.Q+(self.V**2)*0.5)*self.T)/(self.V*np.sqrt(self.T))\n",
    "        self.d2=(np.log(self.S/self.K)+(self.R-self.Q-(self.V**2)*0.5)*self.T)/(self.V*np.sqrt(self.T))\n",
    "        \n",
    "        self.C=(self.S*np.exp(-self.Q*self.T)*norm.cdf(self.d1))-(self.K*np.exp(-self.R*self.T)*norm.cdf(self.d2))\n",
    "        self.P=(self.K*np.exp(-self.R*self.T)*norm.cdf(-self.d2))-(self.S*np.exp(-self.Q*self.T)*norm.cdf(-self.d1))\n",
    "        \n",
    "        self.deltac=np.exp(-self.Q*self.T)*norm.cdf(self.d1)\n",
    "        self.thetac=-(self.S*np.exp(-self.Q*self.T)*norm.pdf(self.d1)*self.V*0.5/np.sqrt(self.T))-(self.R*self.K*np.exp(-self.R*self.T)*norm.cdf(self.d2))+(self.Q*self.S*np.exp(-self.Q*self.T)*norm.cdf(self.d1))\n",
    "        self.thetap=-(self.S*np.exp(-self.Q*self.T)*norm.pdf(self.d1)*self.V*0.5/np.sqrt(self.T))+(self.R*self.K*np.exp(-self.R*self.T)*norm.cdf(-self.d2))-(self.Q*self.S*np.exp(-self.Q*self.T)*norm.cdf(-self.d1))\n",
    "        self.gammac=np.exp(-self.Q*self.T)*norm.pdf(self.d1)/(self.S*self.V*np.sqrt(self.T))\n",
    "        self.vegac=(self.S*np.exp(-self.Q*self.T)*np.sqrt(self.T)*norm.pdf(self.d1))/100\n",
    "        \n",
    "    def price(self):\n",
    "        if self.Call:\n",
    "            return self.C\n",
    "        else:\n",
    "            return self.P\n",
    "    \n",
    "    def delta(self):\n",
    "        if self.Long: \n",
    "            if self.Call:\n",
    "                return self.deltac*self.N\n",
    "            else:\n",
    "                return (self.deltac-np.exp(-self.Q*self.T))*self.N\n",
    "        else:\n",
    "            if self.Call:\n",
    "                return -(self.deltac)*self.N\n",
    "            else:\n",
    "                return -(self.deltac-np.exp(-self.Q*self.T))*self.N\n",
    "        \n",
    "    def gamma(self):\n",
    "        if self.Long: \n",
    "            if self.Call:\n",
    "                return self.gammac*self.N\n",
    "            else:\n",
    "                return -self.gammac*self.N\n",
    "        else:\n",
    "            if self.Call:\n",
    "                return -(self.gammac)*self.N\n",
    "            else:\n",
    "                return (self.gammac)*self.N\n",
    "    \n",
    "    def theta(self):\n",
    "        if self.Long: \n",
    "            if self.Call:\n",
    "                return self.thetac*self.N/365\n",
    "            else:\n",
    "                return self.thetap*self.N/365\n",
    "        else:\n",
    "            if self.Call:\n",
    "                return -(self.thetac*self.N/365)\n",
    "            else:\n",
    "                return -(self.thetap*self.N/365)\n",
    "    \n",
    "    def vega(self):\n",
    "        if self.Long: \n",
    "            return self.vegac*self.N\n",
    "        else:\n",
    "            return -self.vegac*self.N\n",
    "    \n",
    "    def payoff(self):\n",
    "        if self.Long:\n",
    "            if self.Call:\n",
    "                return np.maximum(self.S-self.K,-self.TP)\n",
    "            else:\n",
    "                return np.maximum(self.K-self.S,-self.TP)\n",
    "        else:\n",
    "            if self.Call:\n",
    "                return np.minimum(self.TP,self.TP-(self.S-self.K))\n",
    "            else:\n",
    "                return np.minimum(self.TP,self.TP-(self.K-self.S))\n",
    "    \n",
    "        "
   ]
  },
  {
   "cell_type": "code",
   "execution_count": 135,
   "metadata": {},
   "outputs": [],
   "source": [
    "def Barrier_Option(S0,H,K,T,r,q,vol,Option,Optiontype):\n",
    "    #S0= asset price\n",
    "    #H = Barrier\n",
    "    #K = strike\n",
    "    #T= time to expiry\n",
    "    #r = risk free rate\n",
    "    #q = dividend yield\n",
    "    #vol= volatility\n",
    "    #Option = Call=1/Put=0\n",
    "    #Optiontype = Barrier type (Up&out, down&out, Up&in, down&in)\n",
    "      \n",
    "    lambda_=(r-q+(vol**2)/2)/(vol**2)\n",
    "    y=(np.log((H**2)/(S0*K))/(vol*np.sqrt(T)))+lambda_*vol*(T**0.5)\n",
    "    x1 = (np.log(S0/H)/(vol*T**0.5)) + lambda_*vol*(T**0.5)\n",
    "    y1=  (np.log(H/S0)/(vol*T**0.5)) + lambda_*vol*(T**0.5)\n",
    "    BSM_Call=BSM(1,S0,K,vol,T,r,q,True,1,100)\n",
    "    BSM_Put=BSM(0,S0,K,vol,T,r,q,True,1,100)\n",
    "\n",
    "    if Option==1:\n",
    "        if S0<H:\n",
    "            if H<=K:\n",
    "                Call_do=0\n",
    "                Call_di = BSM_Call.price()\n",
    "                Call_uo=0\n",
    "                Call_ui=BSM_Call.price()\n",
    "            elif H>K:\n",
    "                Call_do = 0\n",
    "                Call_di=BSM_Call.price()-Call_do\n",
    "                Call_ui = (S0*norm.cdf(x1)*np.exp(-q*T) - K*np.exp(-r*T)*norm.cdf(x1-vol*(T**0.5)) - \n",
    "                           S0*np.exp(-q*T)*((H/S0)**(2*lambda_))*(norm.cdf(-y)-norm.cdf(-y1)) + \n",
    "                           K*np.exp(-r*T)*((H/S0)**(2*lambda_-2))*(norm.cdf(-y+vol*T**0.5) - norm.cdf(-y1+vol*T**0.5)))\n",
    "                Call_uo=BSM_Call.price() - Call_ui\n",
    "        \n",
    "        elif S0>=H:\n",
    "            if H<=K:\n",
    "                Call_di = (S0*np.exp(-q*T)*((H/S0)**(2*lambda_))*norm.cdf(y)  -  \n",
    "                           K*np.exp(-r*T)*((H/S0)**(2*lambda_-2))*norm.cdf(y-vol*(T**0.5)))\n",
    "                Call_do = BSM_Call.price()-Call_di\n",
    "                Call_uo = 0\n",
    "                Call_ui = BSM_Call.price()\n",
    "            elif H>K:\n",
    "                Call_do = (S0*norm.cdf(x1)*np.exp(-q*T) - K*np.exp(-r*T)*norm.cdf(x1-vol*T**0.5) - \n",
    "                           S0*np.exp(-q*T)*((H/S0)**(2*lambda_))*norm.cdf(y1) + \n",
    "                           K*np.exp(-r*T)*((H/S0)**(2*lambda_-2))*norm.cdf(y1-vol*T**0.5))\n",
    "                Call_di=BSM_Call.price()-Call_do\n",
    "                Call_ui = (S0*norm.cdf(x1)*np.exp(-q*T) - K*np.exp(-r*T)*norm.cdf(x1-vol*(T**0.5)) - \n",
    "                           S0*np.exp(-q*T)*((H/S0)**(2*lambda_))*(norm.cdf(-y)-norm.cdf(-y1)) + \n",
    "                           K*np.exp(-r*T)*((H/S0)**(2*lambda_-2))*(norm.cdf(-y+vol*T**0.5) - norm.cdf(-y1+vol*T**0.5)))\n",
    "                Call_uo=0\n",
    "        \n",
    "    elif Option==0:\n",
    "        if S0<H:\n",
    "            if H<=K:\n",
    "                Put_di=(-S0*norm.cdf(-x1)*np.exp(-q*T) + K*np.exp(-r*T)*norm.cdf(-x1+vol*T**0.5) + \n",
    "                        S0*np.exp(-q*T)*((H/S0)**(2*lambda_))*(norm.cdf(y)-norm.cdf(y1)) - \n",
    "                        K*np.exp(-r*T)*((H/S0)**(2*lambda_-2))*(norm.cdf(y-vol*T**0.5) - norm.cdf(y1-vol*T**0.5)))\n",
    "                Put_do=0\n",
    "                Put_uo= (-S0*norm.cdf(-x1)*np.exp(-q*T) + K*np.exp(-r*T)*norm.cdf(-x1+vol*T**0.5) + \n",
    "                         S0*np.exp(-q*T)*((H/S0)**(2*lambda_))*(norm.cdf(-y1)) - \n",
    "                         K*np.exp(-r*T)*((H/S0)**(2*lambda_-2))*(norm.cdf(-y1+vol*T**0.5)))\n",
    "                Put_ui=BSM_Put.price() - Put_uo\n",
    "            elif H>K: \n",
    "                Put_do = 0\n",
    "                Put_di=BSM_Put.price()\n",
    "                Put_ui = (-S0*norm.cdf(-y)*np.exp(-q*T)*((H/S0)**(2*lambda_)) + \n",
    "                          K*np.exp(-r*T)*((H/S0)**(2*lambda_-2))*(norm.cdf(-y+vol*T**0.5)) )\n",
    "                Put_uo = BSM_Put.price() - Put_ui\n",
    "        elif S0>=H:\n",
    "            if H<=K:\n",
    "                Put_di=(-S0*norm.cdf(-x1)*np.exp(-q*T) + K*np.exp(-r*T)*norm.cdf(-x1+vol*T**0.5) + \n",
    "                        S0*np.exp(-q*T)*((H/S0)**(2*lambda_))*(norm.cdf(y)-norm.cdf(y1)) - \n",
    "                        K*np.exp(-r*T)*((H/S0)**(2*lambda_-2))*(norm.cdf(y-vol*T**0.5) - norm.cdf(y1-vol*T**0.5)))\n",
    "                Put_do=BSM_Put.price()-Put_di\n",
    "                Put_uo= 0\n",
    "                Put_ui=BSM_Put.price() - Put_uo\n",
    "            elif H>K: \n",
    "                Put_do = 0\n",
    "                Put_di=BSM_Put.price()\n",
    "                Put_ui = BSM_Put.price()\n",
    "                Put_uo = 0\n",
    "    \n",
    "    \n",
    "    if Optiontype== \"UI\" and Option==1:\n",
    "        return Call_ui\n",
    "    elif Optiontype == \"UO\" and Option==1:\n",
    "        return Call_uo\n",
    "    elif Optiontype == \"DI\" and Option==1:\n",
    "        return Call_di\n",
    "    elif Optiontype == \"DO\" and Option==1:\n",
    "        return Call_do\n",
    "    elif Optiontype == \"UI\" and Option==0:\n",
    "        return Put_ui\n",
    "    elif Optiontype == \"UO\" and Option==0:\n",
    "        return Put_uo\n",
    "    elif Optiontype == \"DI\" and Option==0:\n",
    "        return Put_di\n",
    "    elif Optiontype == \"DO\" and Option==0:\n",
    "        return Put_do"
   ]
  },
  {
   "cell_type": "code",
   "execution_count": 144,
   "metadata": {},
   "outputs": [
    {
     "data": {
      "text/plain": [
       "4.882942250253397"
      ]
     },
     "execution_count": 144,
     "metadata": {},
     "output_type": "execute_result"
    }
   ],
   "source": [
    "Barrier_Option(54,60,55,5/12,0.1,0,0.4,0,\"DI\")"
   ]
  },
  {
   "cell_type": "code",
   "execution_count": 137,
   "metadata": {},
   "outputs": [],
   "source": [
    "def delta_barrier(S0,H,K,T,r,q,vol,Option,Optiontype):\n",
    "    delta_option=Barrier_Option(S0*1.0001,H,K,T,r,q,vol,Option,Optiontype)-Barrier_Option(S0,H,K,T,r,q,vol,Option,Optiontype)\n",
    "    delta_S=S0*1.0001-S0\n",
    "    delta=delta_option/delta_S\n",
    "    return delta"
   ]
  },
  {
   "cell_type": "code",
   "execution_count": 146,
   "metadata": {},
   "outputs": [
    {
     "data": {
      "text/plain": [
       "-0.41309076784670773"
      ]
     },
     "execution_count": 146,
     "metadata": {},
     "output_type": "execute_result"
    }
   ],
   "source": [
    "delta_barrier(54,60,55,5/12,0.1,0,0.4,0,\"DI\")"
   ]
  },
  {
   "cell_type": "code",
   "execution_count": 139,
   "metadata": {},
   "outputs": [],
   "source": [
    "def gamma_barrier(S0,H,K,T,r,q,vol,Option,Optiontype):\n",
    "    delta_option=delta_barrier(S0*1.0001,H,K,T,r,q,vol,Option,Optiontype)-delta_barrier(S0,H,K,T,r,q,vol,Option,Optiontype)\n",
    "    delta_S=S0*1.0001-S0\n",
    "    gamma=delta_option/delta_S\n",
    "    return gamma"
   ]
  },
  {
   "cell_type": "code",
   "execution_count": 147,
   "metadata": {},
   "outputs": [
    {
     "data": {
      "text/plain": [
       "0.027928644406780948"
      ]
     },
     "execution_count": 147,
     "metadata": {},
     "output_type": "execute_result"
    }
   ],
   "source": [
    "gamma_barrier(54,60,55,5/12,0.1,0,0.4,0,\"DI\")"
   ]
  },
  {
   "cell_type": "code",
   "execution_count": 148,
   "metadata": {},
   "outputs": [],
   "source": [
    "def gamma_barrier_chart(S0,H,K,T,r,q,vol,Option,Optiontype):\n",
    "    gamma_list=[]\n",
    "    prices=[x for x in np.arange(round(S0*0.95,1),round(S0*1.05,1),0.1)]\n",
    "    for i in range(0,len(prices)-1):\n",
    "        gamma_list.append(gamma_barrier(prices[i],H,K,T,r,q,vol,Option,Optiontype))\n",
    "    return list(zip(prices,gamma_list))"
   ]
  },
  {
   "cell_type": "code",
   "execution_count": 149,
   "metadata": {},
   "outputs": [
    {
     "name": "stderr",
     "output_type": "stream",
     "text": [
      "No handles with labels found to put in legend.\n"
     ]
    },
    {
     "data": {
      "image/png": "[encoded data removed]",
      "text/plain": [
       "<Figure size 432x288 with 1 Axes>"
      ]
     },
     "metadata": {
      "needs_background": "light"
     },
     "output_type": "display_data"
    }
   ],
   "source": [
    "plt.plot([x[0] for x in gamma_barrier_chart(58,60,55,5/12,0.1,0,0.4,1,\"DI\")],[x[1] for x in gamma_barrier_chart(58,60,55,5/12,0.1,0,0.4,1,\"DI\")])\n",
    "plt.title('Gamma vs asset prices')\n",
    "plt.ylabel('Gamma')\n",
    "plt.xlabel('Asset prices')\n",
    "plt.legend()\n",
    "plt.show()"
   ]
  },
  {
   "cell_type": "code",
   "execution_count": null,
   "metadata": {},
   "outputs": [],
   "source": []
  },
  {
   "cell_type": "code",
   "execution_count": null,
   "metadata": {},
   "outputs": [],
   "source": []
  },
  {
   "cell_type": "code",
   "execution_count": null,
   "metadata": {},
   "outputs": [],
   "source": []
  },
  {
   "cell_type": "code",
   "execution_count": null,
   "metadata": {},
   "outputs": [],
   "source": []
  },
  {
   "cell_type": "code",
   "execution_count": null,
   "metadata": {},
   "outputs": [],
   "source": []
  }
 ],
 "metadata": {
  "kernelspec": {
   "display_name": "Python 3",
   "language": "python",
   "name": "python3"
  },
  "language_info": {
   "codemirror_mode": {
    "name": "ipython",
    "version": 3
   },
   "file_extension": ".py",
   "mimetype": "text/x-python",
   "name": "python",
   "nbconvert_exporter": "python",
   "pygments_lexer": "ipython3",
   "version": "3.7.6"
  }
 },
 "nbformat": 4,
 "nbformat_minor": 4
}
